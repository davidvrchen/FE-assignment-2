{
 "cells": [
  {
   "cell_type": "markdown",
   "metadata": {},
   "source": [
    "<img src=\"data:image/png;base64,iVBORw0KGgoAAAANSUhEUgAAAXUAAADmCAYAAAAqeBWRAAAAGXRFWHRTb2Z0d2FyZQBBZG9iZSBJbWFnZVJlYWR5ccllPAAAAxBpVFh0WE1MOmNvbS5hZG9iZS54bXAAAAAAADw/eHBhY2tldCBiZWdpbj0i77u/IiBpZD0iVzVNME1wQ2VoaUh6cmVTek5UY3prYzlkIj8+IDx4OnhtcG1ldGEgeG1sbnM6eD0iYWRvYmU6bnM6bWV0YS8iIHg6eG1wdGs9IkFkb2JlIFhNUCBDb3JlIDUuNi1jMDE0IDc5LjE1Njc5NywgMjAxNC8wOC8yMC0wOTo1MzowMiAgICAgICAgIj4gPHJkZjpSREYgeG1sbnM6cmRmPSJodHRwOi8vd3d3LnczLm9yZy8xOTk5LzAyLzIyLXJkZi1zeW50YXgtbnMjIj4gPHJkZjpEZXNjcmlwdGlvbiByZGY6YWJvdXQ9IiIgeG1sbnM6eG1wPSJodHRwOi8vbnMuYWRvYmUuY29tL3hhcC8xLjAvIiB4bWxuczp4bXBNTT0iaHR0cDovL25zLmFkb2JlLmNvbS94YXAvMS4wL21tLyIgeG1sbnM6c3RSZWY9Imh0dHA6Ly9ucy5hZG9iZS5jb20veGFwLzEuMC9zVHlwZS9SZXNvdXJjZVJlZiMiIHhtcDpDcmVhdG9yVG9vbD0iSWxsdXN0cmF0b3IiIHhtcE1NOkluc3RhbmNlSUQ9InhtcC5paWQ6NDBFQUFGNjZFQ0U2MTFFNDlCRDU4NTc3RjY5REE3QzIiIHhtcE1NOkRvY3VtZW50SUQ9InhtcC5kaWQ6NDBFQUFGNjdFQ0U2MTFFNDlCRDU4NTc3RjY5REE3QzIiPiA8eG1wTU06RGVyaXZlZEZyb20gc3RSZWY6aW5zdGFuY2VJRD0ieG1wLmlpZDpDREE4OTE3RkVDRTUxMUU0OUJENTg1NzdGNjlEQTdDMiIgc3RSZWY6ZG9jdW1lbnRJRD0ieG1wLmRpZDpDREE4OTE4MEVDRTUxMUU0OUJENTg1NzdGNjlEQTdDMiIvPiA8L3JkZjpEZXNjcmlwdGlvbj4gPC9yZGY6UkRGPiA8L3g6eG1wbWV0YT4gPD94cGFja2V0IGVuZD0iciI/PretbicAAA5HSURBVHja7N3fcdPYHgfwkzv7vt4KMC/7ekMFcQrYIVSAUwFJBSQVJFSAqSBhKCBOBZhXXjAVkK0g12d8fAkhtv7Llv35zGhYFluSZeurn46Ojvbu7+8DANthT6gDCHUAhDoAQh0AoQ4g1AEQ6gAIdQCEOgBCHUCoAyDUARDqAAh1AIQ6gFAHQKgDINQBEOoAQh0AoQ6AUAdAqAMg1AGEOgBCHQChDkDHQn1vb89W/93RbJrOpolNAZuhqwWvUN8M32bTh9l0ZlOAUK/iP766tTuZTX2bAVCpb0egX6T/fhE0v4BKXah3Ui+F+TD9fTqbntssINSFevcMZtP78GuTy+FsGtuNQKjXsuJtTjusn8L8/tF0YvcB2Vhbxgr1tYX5ffjZng4I9VomzS/NiG3mse/569Tc8pTj2TSy64Dml1ozVqjXWpHHAH+ZAn2Zu9n0KmhDB6Eu1DdODO+DFOb7OV4/SYE+tcuAUBfq6zdI0yLIizgP7hgFoS7U16r/oBo/KjmPWJXH9vOx3QSEulBfT5C/SSHerziv6xTod3YREOpCvV3DFOb7NczrLoX5tV0DhLpQb0/seniSwrxX0zxdDAWhLtS3IMyjy9l0ancAoS7U23PWQJjfpTAf2RVAqAv1dgzC7wNp1RXocUAuw+aCUBfqLeilMD9qYN4CHYS6UG+5Or8K9Ta1CHQQ6htrmx9ndzabbhoK9OhcoAMbeTTasqF3F80t9wWnIu+58csB2Wg89eZDPQb65xKBfpOaavK+/shPHoS68dRDo23qvRTORe8IjW3jL1JQ531ohQetwg6EuqPR+ir1shV6nIZpHkXeX9a+XQVko+aXbGXa0B8+Tm5Q8H1V1nFgdwGhLtSXOykZ6O8fzOOm4HuLtKnHs4ir9L4fdhUQ6kJ9dXNGlSaXkAK6zIXVPGJV/m3JgQQQ6kL9kaIV9o9HzR+99P+qVvpPhflN0GsGhLreL7kNC1a+Tw2Je1UxaOO84pjp/6a//xmWP1wj9rL5y64C3Ql1R6N2K/VvofgF0VCx2aXKdGE3AdmoUl/dvJFl2ROIeumg0Gvxoz8PHpwBKvWGdXXsl9c5m1sOw9OPlLtoOdBHAh1opXDuaKWetdKrHvjcT1V6m1TpoFJXqS8xyFEVv1oS6NGbEss8V6UDQr39UB+lCn2Vorfqx+eOjkuu6+IxdwBCfYn/Vgj0oqapSi87Zsv5ijMGAKEenr7AOSkQ6NMCVfaiGedZifWcpCofoD0d7Kf+1F2i/QLvH4TsPuXfHlXnRe9cvQ9GZATZaJiAUqF+VmIeF2H17f+9jGVmTWd2CRDqbj7KH+oPm0ieh3Lt1vGO0jePmkvePdE8MwjFHl83DvP+8UDHQ93RqP1KvY1RDy8KVOht36UKqNR/mbp4oXTy4L8/trC8vAN+PbywCrAWXQz1uyUB34TY9NLP+drjFtYHYOtC/WFwThte1tsCgX7t5wQI9eK+t7ScQcj3PNEY6CM/JWATdLH3SwzaRW+UvYZWM17s/Byym14EOmyprvZ+6foojU2FeuxVM1zx74uLomM/fRDqG7fiHXzy0U3IHn63rLOwuttirODdLQo7EOruKG0v1E9CsRuC6gr0th+uAQj1nQj1qF/jvHqpyWVVdT7wMwehLtSbC/W6DMPyh1h/C6vb1gGhbuyXDXGUmlOeqvhHYX63qr7nsMOh3kW7HOoP2+SnYd7/fRz0aAGEeidDHUCoC3VAqAt1oQ48ZTCbXob5vR+DJ/59mqbbML/WNRXqmxfqw9kfr7foR3kalozOePDpa9XPOrn95+/TJlZ6A9btIjR7E1e86/dLCoFJMILmKvvp+1jmQ6h/OIz4+4sD5vULvCc+yP1MqK/2xxqW2Q/b1ee719HPuu51229h+UePQn4cfvZqMu79r7/hVd/Fbc3Lugru+2jMf2wCdii4YsjHm8x+pD8FS/vfwY3tLtShCcMUMDeh3ruTWe4qGDdJqEPDYtUY7xw+sykadaRCF+rQprepajdgW3PbF6EOrVftN5oIatfPuU1HYf6cgudh/qyExRT/fhjq6YHT3/YD9x9+b2youAN/KPG+XgqQZ6HYg8MX9lOwvwgt9onegYNlllVPEZtW/C7idxqbfxb94eMBYizUoV3fK+x4148qs+FselOgQlt0u4s7v66P9VTHWd/XqOZlxvB+ncK8v0sbW/ML2y5WeGez6a8wv3nlrkAovLf5WvGx5vnFM634DISTsIM9m4Q6uySG+4sCZwBHKRho/sBLTdbR/DKuaT4HoVoXqbget36QOxkghyH74eILb1PTgGYYhPqKMK0j2M8qhvpt0Dd5lx2nP7OCPbavXzx4PWw0zS/serDnKTBi8PdtLoQ6dCPY8zStuHkGoQ4dMA3zXjFZ4kVTd5uy8fRThxAuw7wfe3/FaxajPI4aWod+WD0c8iT8HBsehDpkiNV6Vr/0lzWHej8dTIrcIBObiuLNOvFu2/GGbLt+xvo/y3h/niEEpuHXnmarltlrYHlCHTomBuVFRiAc1bSsxZOGBiXeG9dvmKYYOqfh1zto1yGuS5VrDhc5D7pnNS2zzPI6Q5s6/FoBZxlUXE4MlM+hnmFoY6V6lSbt/Qh1eCTP7eplw7gXft66XrejNG+jSyLU4YFxjtcclAz0pof07QfDBhO0qcNDsQlmkhGM/RLzzRu2sfnnNvzaw6WXDiR5LqbG18aLvUaXFOpAUneon+UI9HiGEG+Cmq4I+3hBdBDmbfKr5re4CNvmsAajjLOcOATucMW/n4bsrprTAsvM2kZllifUoaO+53jNfsjXXzy+LquHRpFeFuNUhV9khGT8tza7PE4zQnCQ40A6rnGZdw0srzO0qUPxCi1vT5OsrnOXoXi3ubtUhWcdVAxrsKOEOjRz2j3IqFDHqRmgrFc5lu+iqVAHcsgTlm8y/v204jrEg8+o4jog1IGQ3fyyGCdmmXjhs44xXN7lqNYR6kBFWcMJfKhpOfHAsOqiYD9oghHqQKas3hVZNyiNa1yXrIpfqAt1oGKQDipU10VlPWe37+sS6rDLqoZgL2Mebd/peeAr3S1uPoLiob4qmLOaO6ah3guYz3xlCHWoFpKTCgeFYVh9NyhUovkFilfaVSt9EOrQgl4NoQ5CHTbEIMdrbm0mhPruqnrX4KDBdTtY82fbRC9zvGbsZ80mc6G0WZW7rx18+rp/+8/fTQRo1ZtS/t3C7yvPg6Wrhvoo1HdHaSu/QYQ69e5Qg7qr4nigCNUfVDzdsu9qmGObXNewnO+qfZqk+aVBNVXYTYy0V8c8ty3U84w/nufB1CpjhPqWq1qV9WeV9bDGKr0faugnPTtgbVO1eRKyuyLe5azUsw7kf9olEOodL9hrmMfFLIx7Na3P+w04UG2SXs4q/TpnFZ71GgNsIdQ7ro522Bg8N1WDffb+GOiDGtbn4xZ9P1ch3/WF85zzM2oiQn2ry/R5u3odbev7KdgLh0I8GMymGF7Dmj7WaEu+nrwHufh5pzWdyeS5wamIm4zJQWTH6P3SjnehnmaPuIN+ngV0DJnz2QFjmhXmYd5e/CZU7+3y/4CbLXcbLga+z3mQi5+16KPnJhkHi9c1Hej7wdONEOprqdZHs4B9G+obFySG0XA2z0mqCv8NP8fpXuzkBw3t8Ocd/zr6BSr0xectehD7kA6myxyF6s8oDTk+w13YzpvEEOob4TidDtdpv+XT68yzgw13VvCsJV4PuSyxnBik0xUH8X46MI8qfp7XGf8+ttvtHm3q7VXr45IBsSkms89w1tHKPK73jzDv5ZI30CfpQFxW1l2jF6Fak9ggR6X+wZ6nUqfZYD89+PR1ELp38Sqexr9qeZnPQrnmo8WFyMX7+xU+b5VrB5cZZwW9dOZ2WGI5vXRQWGUa6ul51UVZ23OwzWcxQr19h6FbvRLiDnK4hmaXYVjPwyQWFfq0hu12nhG+++m38KrA8uJB6irH7+d0h/exL2H1OD5v0gFvK683aH5pv1q/S8HehR/UItB35WLbuObv5jLk67f+OcybiPoZr7tIr80K9OsdrtLznuncpG2+/+j/D0LHn0wl1Ncb7KMNXs0YRs93KNDPQ7mmkCx5mnEWd7V+S9PjvuY/UpifhOx2+KrXArbl4BxybvO4Xe/T9CNt7/dd/vCaX9Yb7McHn75+TBVYf4Oq83cdvShaNgDqaG5ZZhp+NrnluTDar/BbmDR0YOrid3oX6rs3Q6VOoXCPp8kvQrn+0HWLZw4vdiTQRykAD0PzI04uwrbJs56xQP/tzGsnCfUNqdpTkD4P8wtc0xYXH0Mgtv3GppbjjvdDz/qc16kq/yv9OW5x+Ytgv2zgcx0L9N9chu0ZzqIQzS8bFu7px3iZxniJV/DjI9bq7ikzTQF3m84UtsH00cEwbssv6f/VNf5OHQEcD9px2Ii36fst20QwSfPJO3rkLjpOv4G3YYeaYvbu7+/bXeDenp9aQWkMlxjsgzAfj3vx5KKssJ8+mL4vwm2Lq/GuWfS2OAg/7w5eFj7j9D1+SUHuOyzmKOd2Xgy3cdh2NnY21AEQ6gAIdQChDoBQB0CoAyDUARDqAEIdAKEOgFAHQKgDINQBhDoAQh0AoQ6AUAcQ6gAIdQCEOgBCHQChDiDUARDqAAh1AIQ6AEIdQKgDINQBEOoACHUAoQ6AUAdAqAMg1AEQ6gBCHQChDoBQB0CoAyDUAYQ6AEIdAKEOgFAHEOoACHUAhDoAQh0AoQ4g1AEQ6gAIdQCEOgBCHUCoAyDUARDqAAh1AKFuKwAIdQCEOgBCHQChDiDUARDqAAh1AIQ6AEIdQKgDINQBEOoACHUAhDqAUAdAqAMg1AEQ6gBCHQChDoBQB0CoAyDUAYQ6AEIdgPb9T4ABAMb7isechNVEAAAAAElFTkSuQmCC\" style=\"width:200px;float:right\">\n",
    "\n",
    "<h1 style=\"text-align:center\">Assignment Part 2</h1>\n",
    "<h1 style=\"text-align:center\">2024/2025</h1>\n",
    "\n",
    "\n",
    "<h2><p>Faculty of Electrical Engineering, Mathematics, and Computer Science<br>\n",
    "Mathematical Methods For Physics: Finite-Element Analysis (AP3001-FE)</p></h2>\n",
    "\n",
    "Author:\n",
    "  - Artur Palha\n",
    "\n",
    "Original concept idea for stationary case: \n",
    "  - Carolina Úrzua-Torres\n",
    "  - Dani Balagué Guardia\n",
    "\n",
    "## <span style=\"color:red\">DEADLINE</span> \n",
    "To be submitted **before 23:59 of January 17th, 2024**, via Brightspace, both the report (pdf) and code (zip file of folder with all code necessary to run: it should include this file and the folder `ap3001_fe`).\n",
    "\n",
    "The assignment is planned so you are able to complete all tasks before this date. \n",
    "\n",
    "## Typesetting\n",
    "The report must be typeset in either $\\LaTeX$ or Word and converted to a pdf file."
   ]
  },
  {
   "cell_type": "markdown",
   "metadata": {},
   "source": [
    "# Assignment"
   ]
  },
  {
   "cell_type": "markdown",
   "metadata": {},
   "source": [
    "Following up on the questions in the exam questions, you are asked to fill in the missing code in order to make this notebook run.\n",
    "\n",
    "All the code you need to change is marked with `# TODO` at the end of the line. For each `# TODO` you can add the necessary code by fixing that line. Most code is straighforward, except in the assembly functions where you will need to use numpy array multiplication to make it in just one line. If it is easier for you to make it a sequence of `for` loops, feel free to do so. Just keep in mind that the changes you need to make are very localized and relatively simple.\n",
    "\n",
    "All the changes you need to make are in the folder:\n",
    "\n",
    "`ap3001_fe/assignment_functions`\n",
    "\n",
    "Specifically, the following files and functions:\n",
    "\n",
    "- `ap3001_fe/assignment_functions/__basis.py`\n",
    "    - `basis_canonical_triangle(xi, eta)`\n",
    "    - `grad_basis_canonical_triangle(xi, eta)`\n",
    "\n",
    "- `ap3001_fe/assignment_functions/__mapping.py`\n",
    "    - `mapping_triangle(xi, eta, vertices)`\n",
    "    - `jacobian_triangle(xi, eta, vertices)`\n",
    "\n",
    "- `ap3001_fe/assignment_functions/__local_assembly.py`\n",
    "    - `generate_element_mass_matrix(basis, element_idx, sigma)`\n",
    "    - `generate_element_vector(basis, element_idx, f)`\n",
    "\n",
    "- `ap3001_fe/assignment_functions/__time_evolution.py`\n",
    "    - `evolve_in_time(u_0, f, M, N, delta_t, theta, basis, tol=1e-10, t_step_max = 1000)`\n",
    "\n",
    "The functions in the first three files are tested below (see Testing section). Once the tests pass, your functions are correctly implemented. Change the functions following the sequence in the tests (and presented above).\n",
    "\n",
    "For the time evolution, you can see if your implementation is correct by checking if the difference between the steady state solution and the time evolution solution is close to the tolerance. If not, something is incorrectly implemented in your time integration."
   ]
  },
  {
   "cell_type": "markdown",
   "metadata": {},
   "source": [
    "# Import required libraries"
   ]
  },
  {
   "cell_type": "code",
   "execution_count": null,
   "metadata": {},
   "outputs": [],
   "source": [
    "# Import required libraries\n",
    "\n",
    "# In principle, this cell should automatically install any missing packages.\n",
    "# If not, install the required packages by hand:\n",
    "#   - numpy\n",
    "#   - scipy\n",
    "#   - matplotlib\n",
    "#   - scikit-fem\n",
    "\n",
    "import sys\n",
    "\n",
    "# Numpy\n",
    "try:\n",
    "    import numpy\n",
    "except:\n",
    "    !{sys.executable} -m pip install numpy\n",
    "\n",
    "# Matplotlib\n",
    "try:\n",
    "    import matplotlib.pyplot as plt\n",
    "    import matplotlib.animation as animation\n",
    "except:\n",
    "    !{sys.executable} -m pip install matplotlib\n",
    "\n",
    "# Scipy\n",
    "try:\n",
    "    from scipy.sparse import identity as sp_identity\n",
    "    from scipy.sparse.linalg import spsolve as solve\n",
    "except:\n",
    "    !{sys.executable} -m pip install scipy\n",
    "\n",
    "# SkFEM\n",
    "try:\n",
    "    import skfem\n",
    "except:\n",
    "    !{sys.executable} -m pip install scikit-fem\n",
    "\n",
    "# Our custom made functions and auxiliary functions\n",
    "import ap3001_fe"
   ]
  },
  {
   "cell_type": "markdown",
   "metadata": {},
   "source": [
    "# Define physical variables"
   ]
  },
  {
   "cell_type": "code",
   "execution_count": null,
   "metadata": {},
   "outputs": [],
   "source": [
    "sigma = 1.0  # as in the PDE"
   ]
  },
  {
   "cell_type": "markdown",
   "metadata": {},
   "source": [
    "# Create the mesh"
   ]
  },
  {
   "cell_type": "code",
   "execution_count": null,
   "metadata": {},
   "outputs": [],
   "source": [
    "# Create the mesh\n",
    "squareMesh = ap3001_fe.mesh.Mesh('square', refinement=5)\n",
    "\n",
    "# And plot it\n",
    "ax = squareMesh.draw()\n",
    "plt.show()"
   ]
  },
  {
   "cell_type": "markdown",
   "metadata": {},
   "source": [
    "# Define the essential boundary conditions"
   ]
  },
  {
   "cell_type": "markdown",
   "metadata": {},
   "source": [
    "## $\\Gamma_1$ essential boundary conditions (door)"
   ]
  },
  {
   "cell_type": "code",
   "execution_count": null,
   "metadata": {},
   "outputs": [],
   "source": [
    "# Essential boundary conditions at Gamma_1: door \n",
    "\n",
    "# First the function that defines if a point is on the Gamma_1 boundary or not\n",
    "def on_boundary_g_1(x, y):\n",
    "    return numpy.logical_and(x >= 0.8, y >= 1.0 - 10**(-8))\n",
    "\n",
    "# Then the value of the boundary condition\n",
    "def g_1(x, y):\n",
    "       return 18.0 * numpy.ones(len(x))"
   ]
  },
  {
   "cell_type": "markdown",
   "metadata": {},
   "source": [
    "## $\\Gamma_3$ essential boundary conditions (window)"
   ]
  },
  {
   "cell_type": "code",
   "execution_count": null,
   "metadata": {},
   "outputs": [],
   "source": [
    "# Essential boundary conditions at Gamma_3: window \n",
    "\n",
    "# First the function that defines if a point is on the Gamma_3 boundary or not\n",
    "def on_boundary_g_3(x, y):\n",
    "       return numpy.logical_and(numpy.logical_and(x >= 0.2, x <= 0.4), y <= 10**(-8))\n",
    "\n",
    "# Then the value of the boundary condition\n",
    "def g_3(x, y):\n",
    "       return -5.0 * numpy.ones(len(x))"
   ]
  },
  {
   "cell_type": "markdown",
   "metadata": {},
   "source": [
    "## Generate the data structure that stores all essential boundary conditions"
   ]
  },
  {
   "cell_type": "code",
   "execution_count": null,
   "metadata": {},
   "outputs": [],
   "source": [
    "# Place them in the dictionary containing all essential boundary conditions\n",
    "bcs = {'Gamma_1': {'on_boundary_function': on_boundary_g_1, 'g': g_1},\\\n",
    "       'Gamma_3': {'on_boundary_function': on_boundary_g_3, 'g': g_3}}"
   ]
  },
  {
   "cell_type": "markdown",
   "metadata": {},
   "source": [
    "# Define the source term (heater)"
   ]
  },
  {
   "cell_type": "markdown",
   "metadata": {},
   "source": [
    "## Source function for the heater on in the middle of the room"
   ]
  },
  {
   "cell_type": "code",
   "execution_count": null,
   "metadata": {},
   "outputs": [],
   "source": [
    "# Define the source function with the heater on\n",
    "def f_heater(x, y):\n",
    "    # First check which points are at the location of the source (heater)\n",
    "    points_in_source_mask = numpy.logical_and(numpy.logical_and(x >= 0.4, x <= 0.6), numpy.logical_and(y >= 0.45, y <= 0.55))\n",
    "    \n",
    "    # Then assign the heat generation to the points at the location of the source (heater)\n",
    "    f = numpy.zeros(len(x))\n",
    "    f[points_in_source_mask] = 2500.0  # power generation of the heat source\n",
    "\n",
    "    return f"
   ]
  },
  {
   "cell_type": "markdown",
   "metadata": {},
   "source": [
    "## Source function for the heater off (no heater)"
   ]
  },
  {
   "cell_type": "code",
   "execution_count": null,
   "metadata": {},
   "outputs": [],
   "source": [
    "# Define the source function with the heater off (no heater)\n",
    "def f_no_heater(x, y):\n",
    "    return numpy.zeros(len(x))"
   ]
  },
  {
   "cell_type": "markdown",
   "metadata": {},
   "source": [
    "# Generate the basis functions used to solve this problem"
   ]
  },
  {
   "cell_type": "code",
   "execution_count": null,
   "metadata": {},
   "outputs": [],
   "source": [
    "# Generate the hat basis functions\n",
    "hat_basis = ap3001_fe.basis.HatBasisFunctions(squareMesh, bcs)"
   ]
  },
  {
   "cell_type": "markdown",
   "metadata": {},
   "source": [
    "# Test implementations"
   ]
  },
  {
   "cell_type": "markdown",
   "metadata": {},
   "source": [
    "Fill in the missing implementations on each of the functions tested below. Follow the sequence as they appear in the tests. Once all tests passit means you have correctly implemented the functions and your results will be correct."
   ]
  },
  {
   "cell_type": "markdown",
   "metadata": {},
   "source": [
    "## Test `__basis.py`"
   ]
  },
  {
   "cell_type": "markdown",
   "metadata": {},
   "source": [
    "### Test `basis_canonical_triangle`"
   ]
  },
  {
   "cell_type": "code",
   "execution_count": null,
   "metadata": {},
   "outputs": [],
   "source": [
    "# Generate output\n",
    "xi = numpy.array([0.0, 1.0, 0.0, 0.25, 0.25, 0.0])\n",
    "eta = numpy.array([0.0, 0.0, 1.0, 0.0, 0.25, 0.25])\n",
    "B_c_eval = ap3001_fe.assignment_functions.basis_canonical_triangle(xi, eta)\n",
    "\n",
    "# Reference output\n",
    "B_c_eval_reference = numpy.array([[1.  , 0.  , 0.  , 0.75, 0.5 , 0.75],\n",
    "                                  [0.  , 1.  , 0.  , 0.25, 0.25, 0.  ],\n",
    "                                  [0.  , 0.  , 1.  , 0.  , 0.25, 0.25]])\n",
    "\n",
    "# Check correctness of results\n",
    "error = B_c_eval_reference - B_c_eval\n",
    "\n",
    "if numpy.abs(error).sum() > 1e-12:\n",
    "    raise Exception(\"ap3001_fe.assignment_functions.basis_canonical_triangle is incorrectly implemented. Correct it in ap3001_fe/assignment_functions/__basis.py\") \n",
    "else:\n",
    "    print(\"|---------------------------------------|\")\n",
    "    print(\"| basis test output                     |\")\n",
    "    print(\"|---------------------------------------|\")\n",
    "    print(\"   ap3001_fe.assignment_functions.basis_canonical_triangle is correctly implemented.\")"
   ]
  },
  {
   "cell_type": "markdown",
   "metadata": {},
   "source": [
    "### Test `grad_basis_canonical_triangle`"
   ]
  },
  {
   "cell_type": "code",
   "execution_count": null,
   "metadata": {},
   "outputs": [],
   "source": [
    "# Generate output\n",
    "xi = numpy.array([0.0, 1.0, 0.0, 0.25, 0.25, 0.0])\n",
    "eta = numpy.array([0.0, 0.0, 1.0, 0.0, 0.25, 0.25])\n",
    "grad_B_c_eval = ap3001_fe.assignment_functions.grad_basis_canonical_triangle(xi, eta)\n",
    "\n",
    "# Reference output\n",
    "grad_B_c_eval_reference = numpy.array([[[-1., -1.],\n",
    "                                        [-1., -1.],\n",
    "                                        [-1., -1.],\n",
    "                                        [-1., -1.],\n",
    "                                        [-1., -1.],\n",
    "                                        [-1., -1.]],\n",
    "                                       [[ 1.,  0.],\n",
    "                                        [ 1.,  0.],\n",
    "                                        [ 1.,  0.],\n",
    "                                        [ 1.,  0.],\n",
    "                                        [ 1.,  0.],\n",
    "                                        [ 1.,  0.]],\n",
    "                                       [[ 0.,  1.],\n",
    "                                        [ 0.,  1.],\n",
    "                                        [ 0.,  1.],\n",
    "                                        [ 0.,  1.],\n",
    "                                        [ 0.,  1.],\n",
    "                                        [ 0.,  1.]]])\n",
    "\n",
    "# Check correctness of results\n",
    "error = grad_B_c_eval_reference - grad_B_c_eval\n",
    "\n",
    "if numpy.abs(error).sum() > 1e-12:\n",
    "    raise Exception(\"ap3001_fe.assignment_functions.grad_basis_canonical_triangle is incorrectly implemented. Correct it in ap3001_fe/assignment_functions/__basis.py\") \n",
    "else:\n",
    "    print(\"|---------------------------------------|\")\n",
    "    print(\"| grad basis test output                     |\")\n",
    "    print(\"|---------------------------------------|\")\n",
    "    print(\"   ap3001_fe.assignment_functions.grad_basis_canonical_triangle is correctly implemented.\")"
   ]
  },
  {
   "cell_type": "markdown",
   "metadata": {},
   "source": [
    "## Test `__mapping.py`"
   ]
  },
  {
   "cell_type": "markdown",
   "metadata": {},
   "source": [
    "### Test `mapping_triangle`"
   ]
  },
  {
   "cell_type": "code",
   "execution_count": null,
   "metadata": {},
   "outputs": [],
   "source": [
    "# Generate output\n",
    "element_idx = 10  # choose one element (triangle)\n",
    "element_vertices_idxs = squareMesh.elements[element_idx]  # get the indices of the vertices that make up the element (triangle)\n",
    "vertices = squareMesh.vertices[element_vertices_idxs]  # extract the coordinates of the vertices\n",
    "\n",
    "xi = numpy.array([0.0, 1.0, 0.0])  # compute the mapping for the three vertices of the canonical element (triangle)\n",
    "eta = numpy.array([0.0, 0.0, 1.0])  # we should get the triangle we selected\n",
    "x, y = ap3001_fe.assignment_functions.mapping_triangle(xi, eta, vertices)\n",
    "\n",
    "# Reference output\n",
    "x_reference = vertices[:, 0]\n",
    "y_reference = vertices[:, 1]\n",
    "\n",
    "# Check correctness of results\n",
    "error_x = x_reference - x\n",
    "error_y = y_reference - y\n",
    "\n",
    "if (numpy.abs(error_x).sum() > 1e-12) or (numpy.abs(error_y).sum() > 1e-12):\n",
    "    raise Exception(\"ap3001_fe.assignment_functions.mapping_triangle is incorrectly implemented. Correct it in ap3001_fe/assignment_functions/__mapping.py\") \n",
    "else:\n",
    "    print(\"|---------------------------------------|\")\n",
    "    print(\"| mapping triangle test output          |\")\n",
    "    print(\"|---------------------------------------|\")\n",
    "    print(\"   ap3001_fe.assignment_functions.mapping_triangle is correctly implemented.\")"
   ]
  },
  {
   "cell_type": "markdown",
   "metadata": {},
   "source": [
    "### Test `jacobian_triangle`"
   ]
  },
  {
   "cell_type": "code",
   "execution_count": null,
   "metadata": {},
   "outputs": [],
   "source": [
    "# Generate output\n",
    "element_idx = 10  # choose one element (triangle)\n",
    "element_vertices_idxs = squareMesh.elements[element_idx]  # get the indices of the vertices that make up the element (triangle)\n",
    "vertices = squareMesh.vertices[element_vertices_idxs]  # extract the coordinates of the vertices\n",
    "\n",
    "xi = numpy.array([0.0, 1.0, 0.0])  # compute the mapping for the three vertices of the canonical element (triangle)\n",
    "eta = numpy.array([0.0, 0.0, 1.0])  # we should get the triangle we selected\n",
    "J = ap3001_fe.assignment_functions.jacobian_triangle(xi, eta, vertices)\n",
    "\n",
    "# Reference output\n",
    "x, y = ap3001_fe.assignment_functions.mapping_triangle(xi, eta, vertices)\n",
    "J_ref = numpy.zeros([2, 2])\n",
    "J_ref[0, 0] = x[1] - x[0]\n",
    "J_ref[0, 1] = x[2] - x[0]\n",
    "J_ref[1, 0] = y[1] - y[0]\n",
    "J_ref[1, 1] = y[2] - y[0]\n",
    "\n",
    "# Check correctness of results\n",
    "error_flag = False\n",
    "if ~numpy.all(J[:, 0, 0] == J[0, 0, 0]):\n",
    "    error_flag = True\n",
    "\n",
    "if ~numpy.all(J[:, 0, 1] == J[0, 0, 1]):\n",
    "    error_flag = True\n",
    "\n",
    "if ~numpy.all(J[:, 1, 0] == J[0, 1, 0]):\n",
    "    error_flag = True\n",
    "\n",
    "if ~numpy.all(J[:, 1, 1] == J[0, 1, 1]):\n",
    "    error_flag = True\n",
    "\n",
    "if numpy.abs(J[0, :, :] - J_ref).sum() > 1e-12:\n",
    "    error_flag = True\n",
    "\n",
    "if error_flag:\n",
    "    raise Exception(\"ap3001_fe.assignment_functions.jacobian_triangle is incorrectly implemented. Correct it in ap3001_fe/assignment_functions/__mapping.py\") \n",
    "else:\n",
    "    print(\"|---------------------------------------|\")\n",
    "    print(\"| jacobian triangle test output          |\")\n",
    "    print(\"|---------------------------------------|\")\n",
    "    print(\"   ap3001_fe.assignment_functions.jacobian_triangle is correctly implemented.\")\n",
    "\n"
   ]
  },
  {
   "cell_type": "markdown",
   "metadata": {},
   "source": [
    "## Test `__local_assembly.py`"
   ]
  },
  {
   "cell_type": "markdown",
   "metadata": {},
   "source": [
    "### Test `generate_element_mass_matrix`"
   ]
  },
  {
   "cell_type": "code",
   "execution_count": null,
   "metadata": {},
   "outputs": [],
   "source": [
    "# Generate output\n",
    "sigma = 1.0  # do not change this\n",
    "element_idx = 10  # do not change this\n",
    "\n",
    "M_local = ap3001_fe.assignment_functions.generate_element_mass_matrix(hat_basis, element_idx, sigma)\n",
    "\n",
    "# Reference output\n",
    "M_local_reference = numpy.array([[0.000162760416667, 0.               , 0.               ],\n",
    "                                [0.               , 0.000162760416667, 0.               ],\n",
    "                                [0.               , 0.               , 0.000162760416667]])\n",
    "\n",
    "# Check correctness of results\n",
    "if numpy.abs(M_local_reference - M_local).sum() > 1e-12:\n",
    "    raise Exception(\"ap3001_fe.assignment_functions.generate_element_mass_matrix is incorrectly implemented. Correct it in ap3001_fe/assignment_functions/__local_assembly.py\") \n",
    "else:\n",
    "    print(\"|-------------------------------------------|\")\n",
    "    print(\"| generate element mass matrix test output  |\")\n",
    "    print(\"|-------------------------------------------|\")\n",
    "    print(\"   ap3001_fe.assignment_functions.generate_element_mass_matrix is correctly implemented.\")"
   ]
  },
  {
   "cell_type": "markdown",
   "metadata": {},
   "source": [
    "### Test `generate_element_vector`"
   ]
  },
  {
   "cell_type": "code",
   "execution_count": null,
   "metadata": {},
   "outputs": [],
   "source": [
    "# Generate output\n",
    "element_idx = 20  # do not change this\n",
    "\n",
    "f_local = ap3001_fe.assignment_functions.generate_element_vector(hat_basis, element_idx, f_heater)\n",
    "\n",
    "# Reference output\n",
    "f_local_reference = numpy.array([0.406901041666667, 0.406901041666667, 0.406901041666667])\n",
    "\n",
    "# Check correctness of results\n",
    "if numpy.abs(f_local_reference - f_local).sum() > 1e-12:\n",
    "    raise Exception(\"ap3001_fe.assignment_functions.generate_element_vector is incorrectly implemented. Correct it in ap3001_fe/assignment_functions/__local_assembly.py\") \n",
    "else:\n",
    "    print(\"|-------------------------------------------|\")\n",
    "    print(\"| generate element vector test output       |\")\n",
    "    print(\"|-------------------------------------------|\")\n",
    "    print(\"   ap3001_fe.assignment_functions.generate_element_vector is correctly implemented.\")"
   ]
  },
  {
   "cell_type": "markdown",
   "metadata": {},
   "source": [
    "# Generate all mass and stiffness matrices and source term vector"
   ]
  },
  {
   "cell_type": "markdown",
   "metadata": {},
   "source": [
    "Note that the mass matrix $\\boldsymbol{\\mathsf{M}}$ and the stiffness matrix $\\boldsymbol{\\mathsf{N}}$ do not change in time, therefore we can compute them in advance and then use them in the time stepping procedure. This avoids computing these matrices at each time step, which is time consuming.\n",
    "\n",
    "The same is true for the source terms, since in this case the source terms are not time dependent."
   ]
  },
  {
   "cell_type": "code",
   "execution_count": null,
   "metadata": {},
   "outputs": [],
   "source": [
    "# Generate system matrices and right hand side source vector\n",
    "\n",
    "# Generate the mass matrix\n",
    "M = ap3001_fe.assembly.assemble_global_mass_matrix(hat_basis, 1.0)\n",
    "\n",
    "# Generate the stiffness matrix\n",
    "N = ap3001_fe.assembly.assemble_global_stiffness_matrix(hat_basis, sigma)\n",
    "\n",
    "# Generate source vectors\n",
    "# Note: the source vectors are not time dependent\n",
    "f_h_heater =  ap3001_fe.assembly.assemble_global_vector(hat_basis, f_heater)\n",
    "f_h_no_heater =  ap3001_fe.assembly.assemble_global_vector(hat_basis, f_no_heater)\n"
   ]
  },
  {
   "cell_type": "markdown",
   "metadata": {},
   "source": [
    "# Compute temperature distributions"
   ]
  },
  {
   "cell_type": "markdown",
   "metadata": {},
   "source": [
    "We are interested in computing the stationary (equilibrium) temperature distribution when the heater is turned on.\n",
    "\n",
    "In order to do that we will proceed in two ways:\n",
    "\n",
    "1. Compute the stationary solution with the heater on\n",
    "2. Evolve the transient solution until we reach the stationary state (no temperature changes in time)"
   ]
  },
  {
   "cell_type": "markdown",
   "metadata": {},
   "source": [
    "## Compute temperature distribution with heater on using stationary solution"
   ]
  },
  {
   "cell_type": "markdown",
   "metadata": {},
   "source": [
    "To find the temperature distribution with the heater on using the stationary solution approach we just need to solve the heat equation in the steady state limit, i.e.,\n",
    "\n",
    "$$\n",
    "\\frac{\\partial T}{\\partial t} = 0\n",
    "$$\n",
    "\n",
    "This means that the heat equation\n",
    "\n",
    "$$\n",
    "\\frac{\\partial T}{\\partial t} - \\nabla\\cdot\\nabla T = f\n",
    "$$\n",
    "\n",
    "becomes\n",
    "\n",
    "$$\n",
    "- \\nabla\\cdot\\nabla T = f\\,.\n",
    "$$"
   ]
  },
  {
   "cell_type": "code",
   "execution_count": null,
   "metadata": {},
   "outputs": [],
   "source": [
    "# Compute the same stationary solution with the heater on directly\n",
    "# i.e., without evolving in time\n",
    "# Impose the boundary conditions\n",
    "N_bc = ap3001_fe.assembly.impose_boundary_conditions_matrix(N, hat_basis)\n",
    "f_h_heater_bc = ap3001_fe.assembly.impose_boundary_conditions_vector(f_h_heater, hat_basis)\n",
    "\n",
    "# Find the solution\n",
    "u_end = solve(N_bc, f_h_heater_bc)\n",
    "\n",
    "# Plot the solution\n",
    "fig, ax = plt.subplots()\n",
    "ap3001_fe.mesh.plot(squareMesh, u_end, shading='gouraud', colorbar=True, ax=ax)\n",
    "plt.title(\"u_end\")\n",
    "plt.show()"
   ]
  },
  {
   "cell_type": "markdown",
   "metadata": {},
   "source": [
    "## Compute temperature distribution with heater on using transient solution"
   ]
  },
  {
   "cell_type": "markdown",
   "metadata": {},
   "source": [
    "To compute the temperature distribution with heater on using the transient solution we will proceed in the following way.\n",
    "\n",
    "If you recall the lectures, in order to solve a time dependent solution, besides the boundary conditions, we also need an initial condition $T_{0}(x, y) := T(x, y; t=0)$.\n",
    "\n",
    "How can we find a suitable initial condition? One way of finding an initial condition is to compute the steady state solution without any heater on. This is the temperature distribution in the room we would obtain if we turned off the heater for a long time and let the room reach a stationary temperature distribution.\n",
    "\n",
    "This can be done following exactly the same procedure used to compute the stationary temperature distribution with the heater on (see above), but now with the source term set to zero (no heater).\n",
    "\n",
    "Once we have the initial temperature distribution, we can evolve it in time (using the $\\theta$-method, for example) until the temperature in all points stops changing in time (or changes very little).\n",
    "\n",
    "This is exactly what we will do."
   ]
  },
  {
   "cell_type": "markdown",
   "metadata": {},
   "source": [
    "### Compute initial temperature distribution (initial condition) via the stationary solution with heater off"
   ]
  },
  {
   "cell_type": "code",
   "execution_count": null,
   "metadata": {},
   "outputs": [],
   "source": [
    "# Find the stationary solution of the temperature without any heat source.\n",
    "# This will give us the temperature distribution in the room if we leave\n",
    "# the heater off for a long time, i.e., until the temperature stabilizes.\n",
    "\n",
    "# Impose the boundary conditions\n",
    "N_bc = ap3001_fe.assembly.impose_boundary_conditions_matrix(N, hat_basis)\n",
    "f_h_no_heater_bc = ap3001_fe.assembly.impose_boundary_conditions_vector(f_h_no_heater, hat_basis)\n",
    "\n",
    "# Find the solution\n",
    "u_0 = solve(N_bc, f_h_no_heater_bc)\n",
    "\n",
    "# Plot the solution\n",
    "fig, ax = plt.subplots()\n",
    "ap3001_fe.mesh.plot(squareMesh, u_0, shading='gouraud', colorbar=True, ax=ax)\n",
    "plt.title(\"u_0\")\n",
    "plt.show()"
   ]
  },
  {
   "cell_type": "markdown",
   "metadata": {},
   "source": [
    "### Compute heat distribution with heater on by evolving the temperature in time"
   ]
  },
  {
   "cell_type": "markdown",
   "metadata": {},
   "source": [
    "As mentioned above, we now evolve the initial temperature distribution (the one we obtained via the stationary condition without any heater) until there is no change in time."
   ]
  },
  {
   "cell_type": "code",
   "execution_count": null,
   "metadata": {},
   "outputs": [],
   "source": [
    "# Now we will turn on the heater and see how the temperature evolves\n",
    "# until it reaches equilibrium\n",
    "\n",
    "# Define the time stepping size and the time stepping theta-parameter\n",
    "delta_t = 0.01\n",
    "theta = 1.0  # 0   : Forward Euler\n",
    "             # 1/2 : Crank-Nicholson\n",
    "             # 1   : Backward Euler\n",
    "\n",
    "# Evolve in time until equilibrium\n",
    "t_step, u_t, u_diffs, t_steps = ap3001_fe.evolve_in_time(u_0, f_h_heater, M, N, delta_t, theta, hat_basis, tol=1e-10, t_step_max = 2000)\n",
    "\n",
    "print(\"End time step: \", t_step)\n",
    "print(\"End time     : \", t_step*delta_t)\n",
    "\n",
    "# Plot the final solution (stationary temperature distribution)\n",
    "fig, ax = plt.subplots()\n",
    "ap3001_fe.mesh.plot(squareMesh, u_t[-1], shading='gouraud', colorbar=True, ax=ax)\n",
    "plt.title(\"u_end\")\n",
    "plt.show()"
   ]
  },
  {
   "cell_type": "markdown",
   "metadata": {},
   "source": [
    "## Compare the last step of the transient solution with the stationary solution"
   ]
  },
  {
   "cell_type": "code",
   "execution_count": null,
   "metadata": {},
   "outputs": [],
   "source": [
    "# Plot the difference between the two stationary solutions\n",
    "fig, ax = plt.subplots()\n",
    "ap3001_fe.mesh.plot(squareMesh, numpy.abs(u_end - u_t[-1]), shading='gouraud', colorbar=True, ax=ax)\n",
    "plt.title(\"u_end\")\n",
    "plt.show()"
   ]
  },
  {
   "cell_type": "markdown",
   "metadata": {},
   "source": [
    "The two solutions are essentially identical (as expected). The difference is very close to the tolerence we used as a stopping criterium in the time evolution. Recall that the time evolution would stop once the temperature between one time step and the next changed by less than the tolerance."
   ]
  }
 ],
 "metadata": {
  "kernelspec": {
   "display_name": "ap3001_fe__assignment_2_env",
   "language": "python",
   "name": "python3"
  },
  "language_info": {
   "codemirror_mode": {
    "name": "ipython",
    "version": 3
   },
   "file_extension": ".py",
   "mimetype": "text/x-python",
   "name": "python",
   "nbconvert_exporter": "python",
   "pygments_lexer": "ipython3",
   "version": "3.13.0"
  }
 },
 "nbformat": 4,
 "nbformat_minor": 2
}
